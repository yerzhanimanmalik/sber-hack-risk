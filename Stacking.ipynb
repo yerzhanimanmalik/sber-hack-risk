{
 "cells": [
  {
   "cell_type": "code",
   "execution_count": 2,
   "id": "90875680",
   "metadata": {},
   "outputs": [],
   "source": [
    "import pandas as pd\n",
    "import numpy as np\n",
    "import os"
   ]
  },
  {
   "cell_type": "code",
   "execution_count": 3,
   "id": "7fdae08d",
   "metadata": {},
   "outputs": [
    {
     "data": {
      "text/plain": [
       "['test_data_compressed.pkl',\n",
       " '.DS_Store',\n",
       " 'submission.csv',\n",
       " 'submission_PCA_automl_1-.csv',\n",
       " 'SberHack-Preprocessing.ipynb',\n",
       " 'SberHack.ipynb',\n",
       " 'submission2.csv',\n",
       " 'SberHack-PCA.ipynb',\n",
       " 'part1_compressed.pkl',\n",
       " 'Stacking.ipynb',\n",
       " 'submission (1).csv',\n",
       " 'solution.ipynb',\n",
       " '.ipynb_checkpoints',\n",
       " 'submission_fulldata_automl.csv',\n",
       " 'part2_compressed.pkl',\n",
       " 'submission_PCA_automl.csv',\n",
       " 'submission_full_55features_1700_5fold.csv']"
      ]
     },
     "execution_count": 3,
     "metadata": {},
     "output_type": "execute_result"
    }
   ],
   "source": [
    "os.listdir()"
   ]
  },
  {
   "cell_type": "code",
   "execution_count": 4,
   "id": "6ebf3a9b",
   "metadata": {},
   "outputs": [],
   "source": [
    "sub1 = pd.read_csv('submission.csv')\n",
    "sub2 = pd.read_csv('submission2.csv')\n",
    "sub3 = pd.read_csv('submission (1).csv')\n",
    "sub4 = pd.read_csv('submission_full_55features_1700_5fold.csv')\n",
    "sub5 = pd.read_csv('submission_fulldata_automl.csv')"
   ]
  },
  {
   "cell_type": "code",
   "execution_count": 6,
   "id": "1b904a2e",
   "metadata": {},
   "outputs": [],
   "source": [
    "sub1['Probability'] = (sub1['Probability']+sub2['Probability']+sub3['Probability']+sub4['Probability']+sub5['Probability'])/5"
   ]
  },
  {
   "cell_type": "code",
   "execution_count": 10,
   "id": "04356436",
   "metadata": {},
   "outputs": [],
   "source": [
    "sub1.to_csv('stacked_best5_.csv', index=False)"
   ]
  },
  {
   "cell_type": "code",
   "execution_count": 8,
   "id": "253b43f3",
   "metadata": {},
   "outputs": [
    {
     "data": {
      "text/html": [
       "<div>\n",
       "<style scoped>\n",
       "    .dataframe tbody tr th:only-of-type {\n",
       "        vertical-align: middle;\n",
       "    }\n",
       "\n",
       "    .dataframe tbody tr th {\n",
       "        vertical-align: top;\n",
       "    }\n",
       "\n",
       "    .dataframe thead th {\n",
       "        text-align: right;\n",
       "    }\n",
       "</style>\n",
       "<table border=\"1\" class=\"dataframe\">\n",
       "  <thead>\n",
       "    <tr style=\"text-align: right;\">\n",
       "      <th></th>\n",
       "      <th>ID</th>\n",
       "      <th>Probability</th>\n",
       "    </tr>\n",
       "  </thead>\n",
       "  <tbody>\n",
       "    <tr>\n",
       "      <th>0</th>\n",
       "      <td>1943531</td>\n",
       "      <td>0.024138</td>\n",
       "    </tr>\n",
       "    <tr>\n",
       "      <th>1</th>\n",
       "      <td>1943532</td>\n",
       "      <td>0.011597</td>\n",
       "    </tr>\n",
       "    <tr>\n",
       "      <th>2</th>\n",
       "      <td>1943533</td>\n",
       "      <td>0.015175</td>\n",
       "    </tr>\n",
       "    <tr>\n",
       "      <th>3</th>\n",
       "      <td>1943534</td>\n",
       "      <td>0.116619</td>\n",
       "    </tr>\n",
       "    <tr>\n",
       "      <th>4</th>\n",
       "      <td>1943537</td>\n",
       "      <td>0.044777</td>\n",
       "    </tr>\n",
       "    <tr>\n",
       "      <th>...</th>\n",
       "      <td>...</td>\n",
       "      <td>...</td>\n",
       "    </tr>\n",
       "    <tr>\n",
       "      <th>763804</th>\n",
       "      <td>3290365</td>\n",
       "      <td>0.021454</td>\n",
       "    </tr>\n",
       "    <tr>\n",
       "      <th>763805</th>\n",
       "      <td>3290366</td>\n",
       "      <td>0.037532</td>\n",
       "    </tr>\n",
       "    <tr>\n",
       "      <th>763806</th>\n",
       "      <td>3290367</td>\n",
       "      <td>0.057192</td>\n",
       "    </tr>\n",
       "    <tr>\n",
       "      <th>763807</th>\n",
       "      <td>3290368</td>\n",
       "      <td>0.011610</td>\n",
       "    </tr>\n",
       "    <tr>\n",
       "      <th>763808</th>\n",
       "      <td>3290369</td>\n",
       "      <td>0.029340</td>\n",
       "    </tr>\n",
       "  </tbody>\n",
       "</table>\n",
       "<p>763809 rows × 2 columns</p>\n",
       "</div>"
      ],
      "text/plain": [
       "             ID  Probability\n",
       "0       1943531     0.024138\n",
       "1       1943532     0.011597\n",
       "2       1943533     0.015175\n",
       "3       1943534     0.116619\n",
       "4       1943537     0.044777\n",
       "...         ...          ...\n",
       "763804  3290365     0.021454\n",
       "763805  3290366     0.037532\n",
       "763806  3290367     0.057192\n",
       "763807  3290368     0.011610\n",
       "763808  3290369     0.029340\n",
       "\n",
       "[763809 rows x 2 columns]"
      ]
     },
     "execution_count": 8,
     "metadata": {},
     "output_type": "execute_result"
    }
   ],
   "source": [
    "sub1"
   ]
  },
  {
   "cell_type": "code",
   "execution_count": null,
   "id": "8ff063ed",
   "metadata": {},
   "outputs": [],
   "source": []
  }
 ],
 "metadata": {
  "kernelspec": {
   "display_name": "Python 3",
   "language": "python",
   "name": "python3"
  },
  "language_info": {
   "codemirror_mode": {
    "name": "ipython",
    "version": 3
   },
   "file_extension": ".py",
   "mimetype": "text/x-python",
   "name": "python",
   "nbconvert_exporter": "python",
   "pygments_lexer": "ipython3",
   "version": "3.8.8"
  }
 },
 "nbformat": 4,
 "nbformat_minor": 5
}
